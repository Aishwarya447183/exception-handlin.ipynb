{
 "cells": [
  {
   "cell_type": "code",
   "execution_count": null,
   "id": "567b6b32-3fd2-4192-ba48-44f9d9fce848",
   "metadata": {},
   "outputs": [],
   "source": [
    "##Q1.\n",
    "In Python, an exception is a mechanism that allows a programmer to handle errors and exceptional situations that can occur during program execution. By using exceptions, a programmer can gracefully handle errors and provide meaningful feedback to the user.\n",
    "\n",
    "When creating a custom exception, it is important to create a new class that inherits from the built-in Exception class. This is because the Exception class provides a basic set of methods and properties that are required for proper exception handling.\n",
    "\n",
    "By creating a new class that inherits from Exception, you can create a custom exception that is specific to your program and provides additional information about the error that occurred. Additionally, by inheriting from the Exception class, your custom exception will automatically have access to all of the methods and properties provided by the Exception class, such as the ability to print a traceback and display a custom error message.\n",
    "\n",
    "Overall, using the Exception class as the base class for your custom exception is important for proper exception handling in Python, as it ensures that your custom exception is compatible with the existing exception handling mechanisms provided by the language."
   ]
  },
  {
   "cell_type": "code",
   "execution_count": 2,
   "id": "d6a7f008-0f11-4f0b-b0bb-08afa005f690",
   "metadata": {},
   "outputs": [],
   "source": [
    "##Q2.\n",
    "#Sure, here's a Python program to print the Python exception hierarchy:"
   ]
  },
  {
   "cell_type": "code",
   "execution_count": 3,
   "id": "815906eb-2393-419c-8c61-37ec16b387ab",
   "metadata": {},
   "outputs": [],
   "source": [
    "# Print Python Exception Hierarchy\n",
    "def print_exception_hierarchy():\n",
    "    \"\"\"\n",
    "    This function prints the Python exception hierarchy using the built-in 'Exception' class.\n",
    "    \"\"\"\n",
    "    print(\"Python Exception Hierarchy:\")\n",
    "    print(\"-\" * 30)\n",
    "    exception_classes = []\n",
    "    current_exception = Exception\n",
    "    while current_exception != object:\n",
    "        exception_classes.append(current_exception)\n",
    "        current_exception = current_exception.__base__\n",
    "    exception_classes.reverse()\n",
    "    for exception_class in exception_classes:\n",
    "        print(exception_class.__name__)\n",
    "    print(\"-\" * 30)\n"
   ]
  },
  {
   "cell_type": "code",
   "execution_count": 4,
   "id": "12294aa7-4c54-4502-ae06-6d601473009b",
   "metadata": {},
   "outputs": [
    {
     "name": "stdout",
     "output_type": "stream",
     "text": [
      "Python Exception Hierarchy:\n",
      "------------------------------\n",
      "BaseException\n",
      "Exception\n",
      "------------------------------\n"
     ]
    }
   ],
   "source": [
    "# Call the function to print the Python exception hierarchy\n",
    "print_exception_hierarchy()\n"
   ]
  },
  {
   "cell_type": "code",
   "execution_count": null,
   "id": "9c2e5055-d578-4571-95f2-e21e668b4aac",
   "metadata": {},
   "outputs": [],
   "source": [
    "This program defines a function called print_exception_hierarchy() that prints the Python exception hierarchy using the built-in Exception class. It first creates an empty list to hold all the exception classes, and then uses a while loop to iterate through the exception hierarchy by repeatedly getting the base class of the current exception class until the base class is object. It then reverses the list of exception classes so that the most specific exception classes are printed first, and then prints each exception class name using a for loop.\n",
    "This output shows the complete hierarchy of Python exceptions, with BaseException as the root class and ResourceWarning as the most specific subclass.\n"
   ]
  },
  {
   "cell_type": "code",
   "execution_count": null,
   "id": "a7aa4c2f-5052-46b0-88df-1452f63703a4",
   "metadata": {},
   "outputs": [],
   "source": [
    "##Q3.\n",
    "ArithmeticError is a built-in Python class that represents errors that occur during arithmetic operations. It is a subclass of the Exception class, and it defines several errors related to arithmetic operations.\n",
    "\n",
    "Here are two examples of errors that are defined in the ArithmeticError class:\n",
    "\n",
    "1)ZeroDivisionError:\n",
    "This error is raised when you try to divide a number by zero. For example:\n"
   ]
  },
  {
   "cell_type": "code",
   "execution_count": 5,
   "id": "b8ed95af-0ed3-426f-8ff2-29a9a4f9690d",
   "metadata": {},
   "outputs": [
    {
     "ename": "ZeroDivisionError",
     "evalue": "division by zero",
     "output_type": "error",
     "traceback": [
      "\u001b[0;31m---------------------------------------------------------------------------\u001b[0m",
      "\u001b[0;31mZeroDivisionError\u001b[0m                         Traceback (most recent call last)",
      "Cell \u001b[0;32mIn[5], line 3\u001b[0m\n\u001b[1;32m      1\u001b[0m x \u001b[38;5;241m=\u001b[39m \u001b[38;5;241m5\u001b[39m\n\u001b[1;32m      2\u001b[0m y \u001b[38;5;241m=\u001b[39m \u001b[38;5;241m0\u001b[39m\n\u001b[0;32m----> 3\u001b[0m z \u001b[38;5;241m=\u001b[39m \u001b[43mx\u001b[49m\u001b[38;5;241;43m/\u001b[39;49m\u001b[43my\u001b[49m\n",
      "\u001b[0;31mZeroDivisionError\u001b[0m: division by zero"
     ]
    }
   ],
   "source": [
    "x = 5\n",
    "y = 0\n",
    "z = x/y\n",
    "#This will raise a ZeroDivisionError because you cannot divide any number by zero."
   ]
  },
  {
   "cell_type": "code",
   "execution_count": null,
   "id": "af24332d-f89c-4401-a171-78909cb33a36",
   "metadata": {},
   "outputs": [],
   "source": [
    "2)OverflowError:\n",
    "This error is raised when the result of an arithmetic operation is too large to be represented in memory. For example:"
   ]
  },
  {
   "cell_type": "code",
   "execution_count": null,
   "id": "dd981d2b-76d3-42e8-b7b7-f90c68cd7e57",
   "metadata": {},
   "outputs": [],
   "source": [
    "import math\n",
    "x = math.factorial(10000)"
   ]
  },
  {
   "cell_type": "code",
   "execution_count": null,
   "id": "e98465b4-aadb-45be-bc16-02126f03982f",
   "metadata": {},
   "outputs": [],
   "source": [
    "This will raise an OverflowError because the result of calculating the factorial of 10000 is too large to be represented in memory.\n",
    "\n",
    "These are just two examples of the errors that can be raised by the ArithmeticError class. Other errors defined in this class include FloatingPointError, ValueError, and others."
   ]
  },
  {
   "cell_type": "code",
   "execution_count": null,
   "id": "3c14d93f-7933-4266-845a-1368ea6cc43b",
   "metadata": {},
   "outputs": [],
   "source": [
    "##Q4.\n",
    "The LookupError class is used as a base class for exceptions that occur when a specified key or index cannot be found in a mapping or sequence.\n",
    "\n",
    "Two examples of subclasses of LookupError are KeyError and IndexError.\n",
    "\n",
    "KeyError is raised when a key cannot be found in a dictionary. For example:"
   ]
  },
  {
   "cell_type": "code",
   "execution_count": 6,
   "id": "366455ff-e3a6-40d5-adb0-b170e8ed6a4a",
   "metadata": {},
   "outputs": [
    {
     "name": "stdout",
     "output_type": "stream",
     "text": [
      "Key not found in dictionary\n"
     ]
    }
   ],
   "source": [
    "#This code will raise a KeyError since the key \"d\" is not in the dictionary my_dict.\n",
    "my_dict = {\"a\": 1, \"b\": 2, \"c\": 3}\n",
    "try:\n",
    "    value = my_dict[\"d\"]\n",
    "except KeyError:\n",
    "    print(\"Key not found in dictionary\")\n"
   ]
  },
  {
   "cell_type": "code",
   "execution_count": 7,
   "id": "f3742237-e368-4e05-881d-a714c8ca5a7e",
   "metadata": {},
   "outputs": [
    {
     "name": "stdout",
     "output_type": "stream",
     "text": [
      "Index out of range\n"
     ]
    }
   ],
   "source": [
    "#IndexError is raised when an index is out of range of a sequence, such as a list or tuple. For example:\n",
    "my_list = [1, 2, 3]\n",
    "try:\n",
    "    value = my_list[3]\n",
    "except IndexError:\n",
    "    print(\"Index out of range\")\n",
    "\n",
    "\n",
    "#This code will raise an IndexError since the index 3 is out of range for the list my_list."
   ]
  },
  {
   "cell_type": "code",
   "execution_count": null,
   "id": "2b6d7155-adf9-40b2-aaa1-895110b56c8c",
   "metadata": {},
   "outputs": [],
   "source": [
    "##Q5.\n",
    "ImportError and ModuleNotFoundError are both error types that occur when Python cannot import a module.\n",
    "\n",
    "ImportError is a general error that occurs when an imported module cannot be found or loaded. This error can occur for a variety of reasons, including:\n",
    "\n",
    "The module is not installed on the system\n",
    "The module is installed but not in the current working directory or PYTHONPATH\n",
    "The module has syntax errors or other problems that prevent it from loading properly\n",
    "ModuleNotFoundError is a more specific error that was introduced in Python 3.6. It is raised when an imported module cannot be found, and it is meant to be more informative than ImportError. This error occurs when Python cannot locate the module in any of the places it searches, such as the standard library, the PYTHONPATH, or the current working directory.\n",
    "\n",
    "In summary, ImportError is a general error that can occur when importing a module, while ModuleNotFoundError is a more specific error that occurs when the module cannot be found."
   ]
  },
  {
   "cell_type": "code",
   "execution_count": null,
   "id": "72665c98-ca2b-4d6d-a86b-bc77548b7343",
   "metadata": {},
   "outputs": [],
   "source": [
    "##Q6.\n",
    "Here are some best practices for exception handling in Python:\n",
    "\n",
    "Be specific in catching exceptions: Catch only the exceptions that you are expecting, and avoid using a broad except statement that catches all exceptions. This can help you to debug the issues more effectively and avoid unintended consequences.\n",
    "\n",
    "Handle exceptions at the appropriate level: Handle exceptions at the level where you can resolve them, or where you can provide meaningful error messages to the user.\n",
    "\n",
    "Use the try-except-else block: Use the try-except-else block to separate the code that may raise an exception from the code that handles the exception. The else block runs when no exception occurs, and it can be used to perform cleanup or other tasks.\n",
    "\n",
    "Use the finally block: Use the finally block to clean up resources that need to be released, regardless of whether an exception occurs or not.\n",
    "\n",
    "Use the raise statement: Use the raise statement to raise your own exceptions when necessary. This can be useful when you want to provide more specific information about the error.\n",
    "\n",
    "Use the traceback module: Use the traceback module to print detailed information about the exception and the stack trace. This can help you to diagnose and fix the issue more effectively.\n",
    "\n",
    "Use context managers: Use context managers (with statements) to automatically handle resource allocation and cleanup. Context managers are useful for dealing with resources such as files, sockets, and database connections.\n",
    "\n",
    "Be consistent: Be consistent in your exception handling approach throughout your codebase. This can help to make your code more maintainable and easier to debug.\n",
    "\n",
    "Use meaningful error messages: Use meaningful error messages that describe the problem and suggest possible solutions. This can help users to understand the issue and take appropriate action.\n",
    "\n",
    "Document your exceptions: Document the exceptions that your code may raise, along with their meanings and possible causes. This can help other developers to understand and use your code more effectively.\n",
    "\n",
    "\n",
    "\n"
   ]
  }
 ],
 "metadata": {
  "kernelspec": {
   "display_name": "Python 3 (ipykernel)",
   "language": "python",
   "name": "python3"
  },
  "language_info": {
   "codemirror_mode": {
    "name": "ipython",
    "version": 3
   },
   "file_extension": ".py",
   "mimetype": "text/x-python",
   "name": "python",
   "nbconvert_exporter": "python",
   "pygments_lexer": "ipython3",
   "version": "3.10.8"
  }
 },
 "nbformat": 4,
 "nbformat_minor": 5
}
